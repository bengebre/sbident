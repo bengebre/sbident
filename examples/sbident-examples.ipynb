{
 "cells": [
  {
   "cell_type": "code",
   "execution_count": 1,
   "metadata": {},
   "outputs": [],
   "source": [
    "import sys\n",
    "sys.path.insert(0, '../sbident')\n",
    "\n",
    "import numpy as np\n",
    "from sbident import SBIdent\n",
    "from astropy.time import Time\n",
    "from astropy.coordinates import SkyCoord\n",
    "from astroquery.jplhorizons import Horizons\n",
    "from astropy import units as u"
   ]
  },
  {
   "cell_type": "markdown",
   "metadata": {},
   "source": [
    "# sbident examples"
   ]
  },
  {
   "cell_type": "markdown",
   "metadata": {},
   "source": [
    "0. [Call the API with the minimum required arguments: observer location, time and field of view](#Simplest-call)\n",
    "1. [Expand on the simple example to include a magnitude limit, a field of view width constraint](#A-more-typical-simple-case)\n",
    "2. [Use a spacecraft as the observer location via Horizons](#Use-xobs-for-a-spacecraft-observer-location)\n",
    "3. [Have the API return orbital elements rather than RA/DEC](#Request-orbital-elements-instead-of-RA/DEC)\n",
    "4. [Defined the field of view via a boundary rather than center + half width](#Use-an-edges-based-field-of-view-instead-of-center-based)"
   ]
  },
  {
   "cell_type": "markdown",
   "metadata": {},
   "source": [
    "### Simplest call"
   ]
  },
  {
   "cell_type": "markdown",
   "metadata": {},
   "source": [
    "Call the JPL Small Body Identification API for an observer at MPC observatory code **567** looking at the sky centered on **center** at the observation **time**."
   ]
  },
  {
   "cell_type": "code",
   "execution_count": 2,
   "metadata": {},
   "outputs": [],
   "source": [
    "#setup some arguments for the call\n",
    "center = SkyCoord(10, -20, unit=\"deg\")\n",
    "time = Time('2021-10-01 00:00:00')"
   ]
  },
  {
   "cell_type": "code",
   "execution_count": 3,
   "metadata": {},
   "outputs": [],
   "source": [
    "#call the API\n",
    "sbid0 = SBIdent('567', time, center)\n",
    "\n",
    "#NOTE: the line below is an identical call invoked with keyword arguments\n",
    "#sbid0 = SBIdent(location='567', obstime=time, location=center)"
   ]
  },
  {
   "cell_type": "code",
   "execution_count": 4,
   "metadata": {},
   "outputs": [
    {
     "data": {
      "text/plain": [
       "12"
      ]
     },
     "execution_count": 4,
     "metadata": {},
     "output_type": "execute_result"
    }
   ],
   "source": [
    "#number of results in table\n",
    "len(sbid0.results)"
   ]
  },
  {
   "cell_type": "code",
   "execution_count": 5,
   "metadata": {},
   "outputs": [
    {
     "data": {
      "text/html": [
       "<i>Table length=5</i>\n",
       "<table id=\"table140252852116880\" class=\"table-striped table-bordered table-condensed\">\n",
       "<thead><tr><th>Object name</th><th>Astrometric RA (hh:mm:ss)</th><th>Astrometric Dec (dd mm&apos;ss&quot;)</th><th>Dist. from center RA (&quot;)</th><th>Dist. from center Dec (&quot;)</th><th>Dist. from center Norm (&quot;)</th><th>Visual magnitude (V)</th><th>RA rate (&quot;/h)</th><th>Dec rate (&quot;/h)</th></tr></thead>\n",
       "<thead><tr><th>str19</th><th>str11</th><th>str12</th><th>str5</th><th>str5</th><th>str5</th><th>str4</th><th>str10</th><th>str10</th></tr></thead>\n",
       "<tr><td>149544 (2003 HY50)</td><td>00:40:27.54</td><td>-20 08&apos;03.1&quot;</td><td>388.</td><td>-483.</td><td>620.9</td><td>19.0</td><td>-2.883E+01</td><td>-7.943E+00</td></tr>\n",
       "<tr><td>172806 (2004 GT10)</td><td>00:40:33.40</td><td>-19 43&apos;58.6&quot;</td><td>471.</td><td>961.</td><td>1071.</td><td>18.7</td><td>-2.659E+01</td><td>-1.926E+01</td></tr>\n",
       "<tr><td>225866 (2001 XM223)</td><td>00:39:16.59</td><td>-19 52&apos;34.6&quot;</td><td>-612.</td><td>445.</td><td>757.0</td><td>19.0</td><td>-3.871E+01</td><td>5.329E+00</td></tr>\n",
       "<tr><td>255370 (2005 WS111)</td><td>00:41:44.59</td><td>-20 05&apos;42.9&quot;</td><td>1.E3</td><td>-343.</td><td>1512.</td><td>18.8</td><td>-3.015E+01</td><td>-5.458E+00</td></tr>\n",
       "<tr><td>272760 (2005 YG152)</td><td>00:38:34.58</td><td>-19 57&apos;30.9&quot;</td><td>-1.E3</td><td>149.</td><td>1213.</td><td>20.2</td><td>-3.083E+01</td><td>-1.330E+01</td></tr>\n",
       "</table>"
      ],
      "text/plain": [
       "<Table length=5>\n",
       "    Object name     Astrometric RA (hh:mm:ss) ... RA rate (\"/h) Dec rate (\"/h)\n",
       "       str19                  str11           ...     str10         str10     \n",
       "------------------- ------------------------- ... ------------- --------------\n",
       " 149544 (2003 HY50)               00:40:27.54 ...    -2.883E+01     -7.943E+00\n",
       " 172806 (2004 GT10)               00:40:33.40 ...    -2.659E+01     -1.926E+01\n",
       "225866 (2001 XM223)               00:39:16.59 ...    -3.871E+01      5.329E+00\n",
       "255370 (2005 WS111)               00:41:44.59 ...    -3.015E+01     -5.458E+00\n",
       "272760 (2005 YG152)               00:38:34.58 ...    -3.083E+01     -1.330E+01"
      ]
     },
     "execution_count": 5,
     "metadata": {},
     "output_type": "execute_result"
    }
   ],
   "source": [
    "#first 5 results\n",
    "sbid0.results[0:5]"
   ]
  },
  {
   "cell_type": "markdown",
   "metadata": {},
   "source": [
    "### Add a magnitude constraint and expand the field of view"
   ]
  },
  {
   "cell_type": "markdown",
   "metadata": {},
   "source": [
    "Expand on the previous call.  This time limit objects returned to **19th magnitude** or less; expand the field of view **half-width to 1 degree** from the default 0.5."
   ]
  },
  {
   "cell_type": "code",
   "execution_count": 6,
   "metadata": {},
   "outputs": [],
   "source": [
    "sbid1 = SBIdent('567', time, center, maglim=19, hwidth=1)"
   ]
  },
  {
   "cell_type": "code",
   "execution_count": 7,
   "metadata": {},
   "outputs": [
    {
     "data": {
      "text/plain": [
       "7"
      ]
     },
     "execution_count": 7,
     "metadata": {},
     "output_type": "execute_result"
    }
   ],
   "source": [
    "len(sbid1.results)"
   ]
  },
  {
   "cell_type": "code",
   "execution_count": 8,
   "metadata": {},
   "outputs": [
    {
     "data": {
      "text/html": [
       "<i>Table length=7</i>\n",
       "<table id=\"table140252801452928\" class=\"table-striped table-bordered table-condensed\">\n",
       "<thead><tr><th>Object name</th><th>Astrometric RA (hh:mm:ss)</th><th>Astrometric Dec (dd mm&apos;ss&quot;)</th><th>Dist. from center RA (&quot;)</th><th>Dist. from center Dec (&quot;)</th><th>Dist. from center Norm (&quot;)</th><th>Visual magnitude (V)</th><th>RA rate (&quot;/h)</th><th>Dec rate (&quot;/h)</th></tr></thead>\n",
       "<thead><tr><th>str19</th><th>str11</th><th>str12</th><th>str5</th><th>str5</th><th>str5</th><th>str4</th><th>str10</th><th>str10</th></tr></thead>\n",
       "<tr><td>35889 (1999 JA81)</td><td>00:41:42.21</td><td>-19 04&apos;47.8&quot;</td><td>1.E3</td><td>3.E3</td><td>3614.</td><td>18.6</td><td>-3.174E+01</td><td>-1.306E+01</td></tr>\n",
       "<tr><td>57855 (2001 XT144)</td><td>00:40:35.35</td><td>-20 39&apos;18.8&quot;</td><td>498.</td><td>-2.E3</td><td>2411.</td><td>18.8</td><td>-3.346E+01</td><td>-9.137E+00</td></tr>\n",
       "<tr><td>91101 (1998 HK15)</td><td>00:37:26.23</td><td>-20 33&apos;44.7&quot;</td><td>-2.E3</td><td>-2.E3</td><td>2963.</td><td>17.7</td><td>-3.600E+01</td><td>-6.281E-01</td></tr>\n",
       "<tr><td>93867 (2000 WQ115)</td><td>00:41:43.02</td><td>-19 05&apos;14.9&quot;</td><td>1.E3</td><td>3.E3</td><td>3593.</td><td>17.8</td><td>-3.701E+01</td><td>-8.077E-01</td></tr>\n",
       "<tr><td>120306 (2004 KE6)</td><td>00:36:31.25</td><td>-20 30&apos;11.0&quot;</td><td>-3.E3</td><td>-2.E3</td><td>3451.</td><td>19.0</td><td>-3.658E+01</td><td>-2.018E+00</td></tr>\n",
       "<tr><td>172806 (2004 GT10)</td><td>00:40:33.40</td><td>-19 43&apos;58.6&quot;</td><td>471.</td><td>961.</td><td>1071.</td><td>18.7</td><td>-2.659E+01</td><td>-1.926E+01</td></tr>\n",
       "<tr><td>255370 (2005 WS111)</td><td>00:41:44.59</td><td>-20 05&apos;42.9&quot;</td><td>1.E3</td><td>-343.</td><td>1512.</td><td>18.8</td><td>-3.015E+01</td><td>-5.458E+00</td></tr>\n",
       "</table>"
      ],
      "text/plain": [
       "<Table length=7>\n",
       "    Object name     Astrometric RA (hh:mm:ss) ... RA rate (\"/h) Dec rate (\"/h)\n",
       "       str19                  str11           ...     str10         str10     \n",
       "------------------- ------------------------- ... ------------- --------------\n",
       "  35889 (1999 JA81)               00:41:42.21 ...    -3.174E+01     -1.306E+01\n",
       " 57855 (2001 XT144)               00:40:35.35 ...    -3.346E+01     -9.137E+00\n",
       "  91101 (1998 HK15)               00:37:26.23 ...    -3.600E+01     -6.281E-01\n",
       " 93867 (2000 WQ115)               00:41:43.02 ...    -3.701E+01     -8.077E-01\n",
       "  120306 (2004 KE6)               00:36:31.25 ...    -3.658E+01     -2.018E+00\n",
       " 172806 (2004 GT10)               00:40:33.40 ...    -2.659E+01     -1.926E+01\n",
       "255370 (2005 WS111)               00:41:44.59 ...    -3.015E+01     -5.458E+00"
      ]
     },
     "execution_count": 8,
     "metadata": {},
     "output_type": "execute_result"
    }
   ],
   "source": [
    "sbid1.results "
   ]
  },
  {
   "cell_type": "markdown",
   "metadata": {},
   "source": [
    "### Use xobs for a spacecraft observer location"
   ]
  },
  {
   "cell_type": "markdown",
   "metadata": {},
   "source": [
    "Using a Geocentric state vector and the **xobs** key with your location argument you can request data from the perspective of an arbitrary observer.  You can also use **xobs-hel** to specify an observer from a Heliocentric perspective."
   ]
  },
  {
   "cell_type": "code",
   "execution_count": 9,
   "metadata": {},
   "outputs": [
    {
     "data": {
      "text/plain": [
       "{'xobs': '1.77056e+05,1.04115e+05,-5.76387e+04,1.52568e-01,1.42229e+00,-4.10623e-02'}"
      ]
     },
     "execution_count": 9,
     "metadata": {},
     "output_type": "execute_result"
    }
   ],
   "source": [
    "#get state of TESS (-95) from Horizons at our observation time\n",
    "#and convert it from [AU, AU/day] to [km, km/s]\n",
    "\n",
    "au = (1*u.au).to(u.km).value #1AU in km\n",
    "tess = Horizons(id='-95',location='500',epochs=time.jd,id_type='id').vectors(refplane='earth') #state vector\n",
    "tess_km = tess[['x','y','z','vx','vy','vz']].to_pandas().to_numpy()*au #convert to km\n",
    "tess_km[:,3:] = tess_km[:,3:]/86400 #convert to km/s\n",
    "tess_km = tess_km[0] #take the first row\n",
    "\n",
    "#form the xobs dictionary that is the input for SBIdent location argument\n",
    "xobs = ','.join([np.format_float_scientific(s,precision=5) for s in tess_km])\n",
    "xobs_location = {'xobs': xobs}\n",
    "xobs_location"
   ]
  },
  {
   "cell_type": "code",
   "execution_count": 10,
   "metadata": {},
   "outputs": [],
   "source": [
    "sbid2 = SBIdent(xobs_location, time, center, maglim=19, hwidth=1)"
   ]
  },
  {
   "cell_type": "code",
   "execution_count": 11,
   "metadata": {},
   "outputs": [
    {
     "data": {
      "text/plain": [
       "8"
      ]
     },
     "execution_count": 11,
     "metadata": {},
     "output_type": "execute_result"
    }
   ],
   "source": [
    "len(sbid2.results)"
   ]
  },
  {
   "cell_type": "code",
   "execution_count": 12,
   "metadata": {},
   "outputs": [
    {
     "data": {
      "text/html": [
       "<i>Table length=8</i>\n",
       "<table id=\"table140252853565136\" class=\"table-striped table-bordered table-condensed\">\n",
       "<thead><tr><th>Object name</th><th>Astrometric RA (hh:mm:ss)</th><th>Astrometric Dec (dd mm&apos;ss&quot;)</th><th>Dist. from center RA (&quot;)</th><th>Dist. from center Dec (&quot;)</th><th>Dist. from center Norm (&quot;)</th><th>Visual magnitude (V)</th><th>RA rate (&quot;/h)</th><th>Dec rate (&quot;/h)</th></tr></thead>\n",
       "<thead><tr><th>str19</th><th>str11</th><th>str12</th><th>str5</th><th>str5</th><th>str5</th><th>str4</th><th>str10</th><th>str10</th></tr></thead>\n",
       "<tr><td>35889 (1999 JA81)</td><td>00:41:38.47</td><td>-19 04&apos;50.0&quot;</td><td>1.E3</td><td>3.E3</td><td>3591.</td><td>18.6</td><td>-3.466E+01</td><td>-1.338E+01</td></tr>\n",
       "<tr><td>57855 (2001 XT144)</td><td>00:40:31.29</td><td>-20 39&apos;25.4&quot;</td><td>441.</td><td>-2.E3</td><td>2406.</td><td>18.8</td><td>-3.656E+01</td><td>-9.510E+00</td></tr>\n",
       "<tr><td>91101 (1998 HK15)</td><td>00:37:20.49</td><td>-20 33&apos;53.0&quot;</td><td>-2.E3</td><td>-2.E3</td><td>3028.</td><td>17.7</td><td>-4.027E+01</td><td>-1.105E+00</td></tr>\n",
       "<tr><td>93867 (2000 WQ115)</td><td>00:41:38.34</td><td>-19 05&apos;17.7&quot;</td><td>1.E3</td><td>3.E3</td><td>3564.</td><td>17.8</td><td>-4.067E+01</td><td>-1.203E+00</td></tr>\n",
       "<tr><td>120306 (2004 KE6)</td><td>00:36:25.74</td><td>-20 30&apos;18.6&quot;</td><td>-3.E3</td><td>-2.E3</td><td>3521.</td><td>19.0</td><td>-4.064E+01</td><td>-2.465E+00</td></tr>\n",
       "<tr><td>172806 (2004 GT10)</td><td>00:40:28.79</td><td>-19 44&apos;03.2&quot;</td><td>406.</td><td>957.</td><td>1039.</td><td>18.7</td><td>-3.013E+01</td><td>-1.967E+01</td></tr>\n",
       "<tr><td>225866 (2001 XM223)</td><td>00:39:10.24</td><td>-19 52&apos;41.4&quot;</td><td>-701.</td><td>439.</td><td>827.5</td><td>19.0</td><td>-4.353E+01</td><td>4.806E+00</td></tr>\n",
       "<tr><td>255370 (2005 WS111)</td><td>00:41:40.48</td><td>-20 05&apos;48.3&quot;</td><td>1.E3</td><td>-348.</td><td>1458.</td><td>18.8</td><td>-3.333E+01</td><td>-5.831E+00</td></tr>\n",
       "</table>"
      ],
      "text/plain": [
       "<Table length=8>\n",
       "    Object name     Astrometric RA (hh:mm:ss) ... RA rate (\"/h) Dec rate (\"/h)\n",
       "       str19                  str11           ...     str10         str10     \n",
       "------------------- ------------------------- ... ------------- --------------\n",
       "  35889 (1999 JA81)               00:41:38.47 ...    -3.466E+01     -1.338E+01\n",
       " 57855 (2001 XT144)               00:40:31.29 ...    -3.656E+01     -9.510E+00\n",
       "  91101 (1998 HK15)               00:37:20.49 ...    -4.027E+01     -1.105E+00\n",
       " 93867 (2000 WQ115)               00:41:38.34 ...    -4.067E+01     -1.203E+00\n",
       "  120306 (2004 KE6)               00:36:25.74 ...    -4.064E+01     -2.465E+00\n",
       " 172806 (2004 GT10)               00:40:28.79 ...    -3.013E+01     -1.967E+01\n",
       "225866 (2001 XM223)               00:39:10.24 ...    -4.353E+01      4.806E+00\n",
       "255370 (2005 WS111)               00:41:40.48 ...    -3.333E+01     -5.831E+00"
      ]
     },
     "execution_count": 12,
     "metadata": {},
     "output_type": "execute_result"
    }
   ],
   "source": [
    "sbid2.results "
   ]
  },
  {
   "cell_type": "markdown",
   "metadata": {},
   "source": [
    "### Request orbital elements instead of RA/DEC"
   ]
  },
  {
   "cell_type": "markdown",
   "metadata": {},
   "source": [
    "Just like sbid1 but with orbital elements returned instead"
   ]
  },
  {
   "cell_type": "code",
   "execution_count": 13,
   "metadata": {},
   "outputs": [],
   "source": [
    "sbid3 = SBIdent('567', time, center, maglim=19, hwidth=1, elem=True)"
   ]
  },
  {
   "cell_type": "code",
   "execution_count": 14,
   "metadata": {},
   "outputs": [
    {
     "data": {
      "text/plain": [
       "7"
      ]
     },
     "execution_count": 14,
     "metadata": {},
     "output_type": "execute_result"
    }
   ],
   "source": [
    "len(sbid3.results)"
   ]
  },
  {
   "cell_type": "code",
   "execution_count": 15,
   "metadata": {},
   "outputs": [
    {
     "data": {
      "text/html": [
       "<i>Table length=7</i>\n",
       "<table id=\"table140252853743824\" class=\"table-striped table-bordered table-condensed\">\n",
       "<thead><tr><th>Object name</th><th>Absolute magntiude (H)</th><th>Magnitude slope (G)</th><th>Eccentricity</th><th>Perihelion (au)</th><th>Time of perihelion passage (JD)</th><th>Longitude of ascending node (deg)</th><th>Argument of perihelion (deg)</th><th>Inclination (deg)</th><th>Epoch (JD)</th></tr></thead>\n",
       "<thead><tr><th>str19</th><th>str5</th><th>str4</th><th>str11</th><th>str9</th><th>str13</th><th>str9</th><th>str9</th><th>str9</th><th>str9</th></tr></thead>\n",
       "<tr><td>35889 (1999 JA81)</td><td>14.59</td><td>0.15</td><td>0.135051263</td><td>2.2622576</td><td>2459029.70340</td><td>107.28924</td><td>136.16487</td><td>14.314646</td><td>2459396.5</td></tr>\n",
       "<tr><td>57855 (2001 XT144)</td><td>14.94</td><td>0.15</td><td>0.145307414</td><td>2.2184215</td><td>2459106.74290</td><td>90.509699</td><td>166.42881</td><td>14.505108</td><td>2459396.5</td></tr>\n",
       "<tr><td>91101 (1998 HK15)</td><td>14.82</td><td>0.15</td><td>0.190003626</td><td>2.1612053</td><td>2459570.52423</td><td>63.944244</td><td>326.30676</td><td>14.342675</td><td>2459396.5</td></tr>\n",
       "<tr><td>93867 (2000 WQ115)</td><td>14.53</td><td>0.15</td><td>0.123655288</td><td>2.3321052</td><td>2459340.35524</td><td>60.323194</td><td>260.38542</td><td>15.313304</td><td>2459396.5</td></tr>\n",
       "<tr><td>120306 (2004 KE6)</td><td>15.94</td><td>0.15</td><td>0.105456059</td><td>2.2650747</td><td>2459460.78024</td><td>67.630093</td><td>286.66962</td><td>14.095631</td><td>2459396.5</td></tr>\n",
       "<tr><td>172806 (2004 GT10)</td><td>15.32</td><td>0.15</td><td>0.152729217</td><td>2.4261863</td><td>2459419.00451</td><td>129.59051</td><td>216.02776</td><td>16.169861</td><td>2459396.5</td></tr>\n",
       "<tr><td>255370 (2005 WS111)</td><td>15.07</td><td>0.15</td><td>0.168087299</td><td>2.6063958</td><td>2459483.75742</td><td>78.532196</td><td>283.59020</td><td>14.582037</td><td>2459396.5</td></tr>\n",
       "</table>"
      ],
      "text/plain": [
       "<Table length=7>\n",
       "    Object name     Absolute magntiude (H) ... Inclination (deg) Epoch (JD)\n",
       "       str19                 str5          ...        str9          str9   \n",
       "------------------- ---------------------- ... ----------------- ----------\n",
       "  35889 (1999 JA81)                  14.59 ...         14.314646  2459396.5\n",
       " 57855 (2001 XT144)                  14.94 ...         14.505108  2459396.5\n",
       "  91101 (1998 HK15)                  14.82 ...         14.342675  2459396.5\n",
       " 93867 (2000 WQ115)                  14.53 ...         15.313304  2459396.5\n",
       "  120306 (2004 KE6)                  15.94 ...         14.095631  2459396.5\n",
       " 172806 (2004 GT10)                  15.32 ...         16.169861  2459396.5\n",
       "255370 (2005 WS111)                  15.07 ...         14.582037  2459396.5"
      ]
     },
     "execution_count": 15,
     "metadata": {},
     "output_type": "execute_result"
    }
   ],
   "source": [
    "sbid3.results"
   ]
  },
  {
   "cell_type": "markdown",
   "metadata": {},
   "source": [
    "### Use an edges based field of view instead of center based"
   ]
  },
  {
   "cell_type": "markdown",
   "metadata": {},
   "source": [
    "Define boundaries on a field of view using edges instead of a center + half width.  Use the **skycoord_to_jplstr** class method to translate a SkyCoord RA and DEC to the JPL API format."
   ]
  },
  {
   "cell_type": "code",
   "execution_count": 16,
   "metadata": {},
   "outputs": [
    {
     "data": {
      "text/plain": [
       "{'fov-ra-lim': '00-40-00.00,01-00-00.00',\n",
       " 'fov-dec-lim': 'M20-00-00.00,M25-00-00.00'}"
      ]
     },
     "execution_count": 16,
     "metadata": {},
     "output_type": "execute_result"
    }
   ],
   "source": [
    "edge1 = SBIdent.skycoord_to_jplstr(SkyCoord(10, -20, unit=\"deg\"))\n",
    "edge2 = SBIdent.skycoord_to_jplstr(SkyCoord(15, -25, unit=\"deg\"))\n",
    "edges_location = {'fov-ra-lim': \"{},{}\".format(edge1[0],edge2[0]), \n",
    "                'fov-dec-lim': \"{},{}\".format(edge1[1],edge2[1])}\n",
    "edges_location"
   ]
  },
  {
   "cell_type": "code",
   "execution_count": 17,
   "metadata": {},
   "outputs": [],
   "source": [
    "sbid4 = SBIdent('567', time, edges_location, maglim=19)"
   ]
  },
  {
   "cell_type": "code",
   "execution_count": 18,
   "metadata": {},
   "outputs": [
    {
     "data": {
      "text/plain": [
       "16"
      ]
     },
     "execution_count": 18,
     "metadata": {},
     "output_type": "execute_result"
    }
   ],
   "source": [
    "len(sbid4.results)"
   ]
  },
  {
   "cell_type": "code",
   "execution_count": 19,
   "metadata": {},
   "outputs": [
    {
     "data": {
      "text/html": [
       "<i>Table length=5</i>\n",
       "<table id=\"table140252853591056\" class=\"table-striped table-bordered table-condensed\">\n",
       "<thead><tr><th>Object name</th><th>Astrometric RA (hh:mm:ss)</th><th>Astrometric Dec (dd mm&apos;ss&quot;)</th><th>Dist. from center RA (&quot;)</th><th>Dist. from center Dec (&quot;)</th><th>Dist. from center Norm (&quot;)</th><th>Visual magnitude (V)</th><th>RA rate (&quot;/h)</th><th>Dec rate (&quot;/h)</th></tr></thead>\n",
       "<thead><tr><th>str19</th><th>str11</th><th>str12</th><th>str5</th><th>str5</th><th>str5</th><th>str4</th><th>str10</th><th>str10</th></tr></thead>\n",
       "<tr><td>6087 Lupo (1988 FK)</td><td>00:45:38.18</td><td>-20 58&apos;47.7&quot;</td><td>-4.E3</td><td>5.E3</td><td>6577.</td><td>17.4</td><td>-3.482E+01</td><td>-4.127E+01</td></tr>\n",
       "<tr><td>16668 (1993 XN1)</td><td>00:47:53.89</td><td>-24 05&apos;12.9&quot;</td><td>-2.E3</td><td>-6.E3</td><td>5971.</td><td>17.1</td><td>-3.312E+01</td><td>-9.151E+00</td></tr>\n",
       "<tr><td>31074 (1996 WY1)</td><td>00:46:07.35</td><td>-22 03&apos;08.8&quot;</td><td>-3.E3</td><td>2.E3</td><td>3609.</td><td>16.8</td><td>-3.792E+01</td><td>2.897E+00</td></tr>\n",
       "<tr><td>33140 (1998 DF3)</td><td>00:52:50.10</td><td>-23 36&apos;20.0&quot;</td><td>2.E3</td><td>-4.E3</td><td>4621.</td><td>17.0</td><td>-3.114E+01</td><td>-1.319E+01</td></tr>\n",
       "<tr><td>50158 (2000 AR143)</td><td>00:53:09.98</td><td>-23 36&apos;59.0&quot;</td><td>3.E3</td><td>-4.E3</td><td>4799.</td><td>17.5</td><td>-2.560E+01</td><td>-3.384E+01</td></tr>\n",
       "</table>"
      ],
      "text/plain": [
       "<Table length=5>\n",
       "    Object name     Astrometric RA (hh:mm:ss) ... RA rate (\"/h) Dec rate (\"/h)\n",
       "       str19                  str11           ...     str10         str10     \n",
       "------------------- ------------------------- ... ------------- --------------\n",
       "6087 Lupo (1988 FK)               00:45:38.18 ...    -3.482E+01     -4.127E+01\n",
       "   16668 (1993 XN1)               00:47:53.89 ...    -3.312E+01     -9.151E+00\n",
       "   31074 (1996 WY1)               00:46:07.35 ...    -3.792E+01      2.897E+00\n",
       "   33140 (1998 DF3)               00:52:50.10 ...    -3.114E+01     -1.319E+01\n",
       " 50158 (2000 AR143)               00:53:09.98 ...    -2.560E+01     -3.384E+01"
      ]
     },
     "execution_count": 19,
     "metadata": {},
     "output_type": "execute_result"
    }
   ],
   "source": [
    "#first 5 results\n",
    "sbid4.results[0:5]"
   ]
  }
 ],
 "metadata": {
  "kernelspec": {
   "display_name": "Python 3",
   "language": "python",
   "name": "python3"
  },
  "language_info": {
   "codemirror_mode": {
    "name": "ipython",
    "version": 3
   },
   "file_extension": ".py",
   "mimetype": "text/x-python",
   "name": "python",
   "nbconvert_exporter": "python",
   "pygments_lexer": "ipython3",
   "version": "3.8.8"
  }
 },
 "nbformat": 4,
 "nbformat_minor": 2
}
